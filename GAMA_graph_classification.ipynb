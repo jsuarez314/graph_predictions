{
 "cells": [
  {
   "cell_type": "code",
   "execution_count": 1,
   "id": "732b1a13-0733-44f5-ad2d-815d4378a4fc",
   "metadata": {},
   "outputs": [],
   "source": [
    "import torch\n",
    "from torch_geometric.data import Data\n",
    "\n",
    "import pandas             as pd\n",
    "import numpy              as np\n",
    "import pylab              as pl\n",
    "\n",
    "from sklearn.metrics import f1_score"
   ]
  },
  {
   "cell_type": "code",
   "execution_count": 2,
   "id": "8f77971e-9926-4e4d-8658-7af27a410282",
   "metadata": {},
   "outputs": [],
   "source": [
    "params = {'legend.fontsize': '20',\n",
    "          'figure.figsize': (10, 10),\n",
    "         'axes.labelsize': '20',\n",
    "         'axes.titlesize':'20',\n",
    "         'xtick.labelsize':'20',\n",
    "         'ytick.labelsize':'20'}\n",
    "pl.rcParams.update(params)"
   ]
  },
  {
   "cell_type": "markdown",
   "id": "4ec7b206-ed89-497b-ace1-88c06eec05f1",
   "metadata": {},
   "source": [
    "## Reading GAMA"
   ]
  },
  {
   "cell_type": "code",
   "execution_count": 3,
   "id": "fc4eebbc-e2fb-4c3f-9c8e-9b9e233b8c42",
   "metadata": {},
   "outputs": [
    {
     "data": {
      "text/html": [
       "<div>\n",
       "<style scoped>\n",
       "    .dataframe tbody tr th:only-of-type {\n",
       "        vertical-align: middle;\n",
       "    }\n",
       "\n",
       "    .dataframe tbody tr th {\n",
       "        vertical-align: top;\n",
       "    }\n",
       "\n",
       "    .dataframe thead th {\n",
       "        text-align: right;\n",
       "    }\n",
       "</style>\n",
       "<table border=\"1\" class=\"dataframe\">\n",
       "  <thead>\n",
       "    <tr style=\"text-align: right;\">\n",
       "      <th></th>\n",
       "      <th>connections</th>\n",
       "      <th>umag</th>\n",
       "      <th>gmag</th>\n",
       "      <th>rmag</th>\n",
       "      <th>imag</th>\n",
       "      <th>zmag</th>\n",
       "      <th>galaxy_class</th>\n",
       "    </tr>\n",
       "  </thead>\n",
       "  <tbody>\n",
       "    <tr>\n",
       "      <th>0</th>\n",
       "      <td>[0, 92, 2310, 2312, 5822, 9634, 15253, 15709]</td>\n",
       "      <td>21.292801</td>\n",
       "      <td>19.69248</td>\n",
       "      <td>18.628998</td>\n",
       "      <td>18.124001</td>\n",
       "      <td>17.606222</td>\n",
       "      <td>1.0</td>\n",
       "    </tr>\n",
       "    <tr>\n",
       "      <th>1</th>\n",
       "      <td>[1, 928, 4123, 4279, 4392, 4452, 6107, 7394, 7...</td>\n",
       "      <td>21.247129</td>\n",
       "      <td>20.3507</td>\n",
       "      <td>19.46524</td>\n",
       "      <td>19.11051</td>\n",
       "      <td>18.7027</td>\n",
       "      <td>1.0</td>\n",
       "    </tr>\n",
       "    <tr>\n",
       "      <th>2</th>\n",
       "      <td>[2, 1080, 1494, 1613, 2422, 3293, 4223, 5467, ...</td>\n",
       "      <td>20.280121</td>\n",
       "      <td>19.244968</td>\n",
       "      <td>18.56712</td>\n",
       "      <td>18.197523</td>\n",
       "      <td>18.095039</td>\n",
       "      <td>1.0</td>\n",
       "    </tr>\n",
       "    <tr>\n",
       "      <th>3</th>\n",
       "      <td>[3, 410, 698, 975, 997, 1224, 1422, 2335, 2932...</td>\n",
       "      <td>20.709352</td>\n",
       "      <td>19.154469</td>\n",
       "      <td>18.26092</td>\n",
       "      <td>17.886192</td>\n",
       "      <td>17.556767</td>\n",
       "      <td>1.0</td>\n",
       "    </tr>\n",
       "    <tr>\n",
       "      <th>4</th>\n",
       "      <td>[4, 257, 2793, 5403, 6225, 6783, 8238, 9430, 9...</td>\n",
       "      <td>20.339539</td>\n",
       "      <td>19.494122</td>\n",
       "      <td>18.847221</td>\n",
       "      <td>18.469799</td>\n",
       "      <td>18.331257</td>\n",
       "      <td>1.0</td>\n",
       "    </tr>\n",
       "    <tr>\n",
       "      <th>...</th>\n",
       "      <td>...</td>\n",
       "      <td>...</td>\n",
       "      <td>...</td>\n",
       "      <td>...</td>\n",
       "      <td>...</td>\n",
       "      <td>...</td>\n",
       "      <td>...</td>\n",
       "    </tr>\n",
       "    <tr>\n",
       "      <th>16313</th>\n",
       "      <td>[235, 4046, 5301, 6051, 6656, 7563, 9563, 1037...</td>\n",
       "      <td>19.613569</td>\n",
       "      <td>18.652378</td>\n",
       "      <td>18.155947</td>\n",
       "      <td>17.81431</td>\n",
       "      <td>17.667555</td>\n",
       "      <td>0.0</td>\n",
       "    </tr>\n",
       "    <tr>\n",
       "      <th>16314</th>\n",
       "      <td>[352, 813, 2233, 3016, 3878, 4333, 4455, 6276,...</td>\n",
       "      <td>19.367895</td>\n",
       "      <td>17.734371</td>\n",
       "      <td>17.12788</td>\n",
       "      <td>16.866352</td>\n",
       "      <td>16.696077</td>\n",
       "      <td>1.0</td>\n",
       "    </tr>\n",
       "    <tr>\n",
       "      <th>16315</th>\n",
       "      <td>[193, 217, 322, 1663, 1927, 2065, 2432, 2892, ...</td>\n",
       "      <td>20.651821</td>\n",
       "      <td>19.292326</td>\n",
       "      <td>18.358288</td>\n",
       "      <td>17.906256</td>\n",
       "      <td>17.58371</td>\n",
       "      <td>1.0</td>\n",
       "    </tr>\n",
       "    <tr>\n",
       "      <th>16316</th>\n",
       "      <td>[440, 637, 1141, 1408, 1429, 2870, 3018, 3136,...</td>\n",
       "      <td>23.042261</td>\n",
       "      <td>20.298552</td>\n",
       "      <td>18.932289</td>\n",
       "      <td>18.435946</td>\n",
       "      <td>18.094007</td>\n",
       "      <td>1.0</td>\n",
       "    </tr>\n",
       "    <tr>\n",
       "      <th>16317</th>\n",
       "      <td>[356, 1231, 1305, 2029, 2100, 2652, 2755, 3312...</td>\n",
       "      <td>20.783974</td>\n",
       "      <td>18.950958</td>\n",
       "      <td>17.797161</td>\n",
       "      <td>17.384975</td>\n",
       "      <td>17.066509</td>\n",
       "      <td>1.0</td>\n",
       "    </tr>\n",
       "  </tbody>\n",
       "</table>\n",
       "<p>16318 rows × 7 columns</p>\n",
       "</div>"
      ],
      "text/plain": [
       "                                             connections       umag  \\\n",
       "0          [0, 92, 2310, 2312, 5822, 9634, 15253, 15709]  21.292801   \n",
       "1      [1, 928, 4123, 4279, 4392, 4452, 6107, 7394, 7...  21.247129   \n",
       "2      [2, 1080, 1494, 1613, 2422, 3293, 4223, 5467, ...  20.280121   \n",
       "3      [3, 410, 698, 975, 997, 1224, 1422, 2335, 2932...  20.709352   \n",
       "4      [4, 257, 2793, 5403, 6225, 6783, 8238, 9430, 9...  20.339539   \n",
       "...                                                  ...        ...   \n",
       "16313  [235, 4046, 5301, 6051, 6656, 7563, 9563, 1037...  19.613569   \n",
       "16314  [352, 813, 2233, 3016, 3878, 4333, 4455, 6276,...  19.367895   \n",
       "16315  [193, 217, 322, 1663, 1927, 2065, 2432, 2892, ...  20.651821   \n",
       "16316  [440, 637, 1141, 1408, 1429, 2870, 3018, 3136,...  23.042261   \n",
       "16317  [356, 1231, 1305, 2029, 2100, 2652, 2755, 3312...  20.783974   \n",
       "\n",
       "            gmag       rmag       imag       zmag galaxy_class  \n",
       "0       19.69248  18.628998  18.124001  17.606222          1.0  \n",
       "1        20.3507   19.46524   19.11051    18.7027          1.0  \n",
       "2      19.244968   18.56712  18.197523  18.095039          1.0  \n",
       "3      19.154469   18.26092  17.886192  17.556767          1.0  \n",
       "4      19.494122  18.847221  18.469799  18.331257          1.0  \n",
       "...          ...        ...        ...        ...          ...  \n",
       "16313  18.652378  18.155947   17.81431  17.667555          0.0  \n",
       "16314  17.734371   17.12788  16.866352  16.696077          1.0  \n",
       "16315  19.292326  18.358288  17.906256   17.58371          1.0  \n",
       "16316  20.298552  18.932289  18.435946  18.094007          1.0  \n",
       "16317  18.950958  17.797161  17.384975  17.066509          1.0  \n",
       "\n",
       "[16318 rows x 7 columns]"
      ]
     },
     "execution_count": 3,
     "metadata": {},
     "output_type": "execute_result"
    }
   ],
   "source": [
    "df = pd.read_pickle('./data/GAMA_dataset.pkl')\n",
    "idx = np.arange(0,len(df))\n",
    "df"
   ]
  },
  {
   "cell_type": "markdown",
   "id": "ffa61d22-d6bd-4d2b-9196-a2cb2ebda5b7",
   "metadata": {},
   "source": [
    "# Classification Task"
   ]
  },
  {
   "cell_type": "code",
   "execution_count": 4,
   "id": "86eef3f6-8c07-47c5-bccf-ca23f615078c",
   "metadata": {},
   "outputs": [],
   "source": [
    "A = np.concatenate([ np.zeros(len(c[1:]))+i for i, c in  enumerate(df['connections']) ]).ravel()"
   ]
  },
  {
   "cell_type": "code",
   "execution_count": 5,
   "id": "cdfaa1f5-c4fe-4b00-9f1b-ba95cd74e9d7",
   "metadata": {},
   "outputs": [],
   "source": [
    "B = np.concatenate([ c[1:] for i, c in  enumerate(df['connections']) ]).ravel()"
   ]
  },
  {
   "cell_type": "code",
   "execution_count": 6,
   "id": "5538c21b-8893-442d-9f8c-74966287daeb",
   "metadata": {},
   "outputs": [
    {
     "data": {
      "text/plain": [
       "(484262, 484262)"
      ]
     },
     "execution_count": 6,
     "metadata": {},
     "output_type": "execute_result"
    }
   ],
   "source": [
    "len(A), len(B)"
   ]
  },
  {
   "cell_type": "code",
   "execution_count": 7,
   "id": "c6fa9dbc-8b17-4772-bbde-71f42e10e8b6",
   "metadata": {},
   "outputs": [
    {
     "name": "stderr",
     "output_type": "stream",
     "text": [
      "/tmp/ipykernel_3276/3379307804.py:1: DeprecationWarning: an integer is required (got type numpy.float64).  Implicit conversion to integers using __int__ is deprecated, and may be removed in a future version of Python.\n",
      "  edge_index = torch.tensor([A,B], dtype=torch.long) # Conecctions\n"
     ]
    }
   ],
   "source": [
    "edge_index = torch.tensor([A,B], dtype=torch.long) # Conecctions"
   ]
  },
  {
   "cell_type": "code",
   "execution_count": 8,
   "id": "5a839a37-fb23-4f3c-b05e-ac45760f61f5",
   "metadata": {},
   "outputs": [
    {
     "data": {
      "text/plain": [
       "tensor([[    0,     0,     0,  ..., 16317, 16317, 16317],\n",
       "        [   92,  2310,  2312,  ..., 13856, 13888, 16317]])"
      ]
     },
     "execution_count": 8,
     "metadata": {},
     "output_type": "execute_result"
    }
   ],
   "source": [
    "edge_index"
   ]
  },
  {
   "cell_type": "code",
   "execution_count": 30,
   "id": "fcd5c79f-25cf-4a10-862d-5c221cb810f8",
   "metadata": {},
   "outputs": [
    {
     "data": {
      "text/plain": [
       "(16318, 5)"
      ]
     },
     "execution_count": 30,
     "metadata": {},
     "output_type": "execute_result"
    }
   ],
   "source": [
    "predictors = np.array(df[['umag','zmag','imag','rmag','gmag']], dtype=float)\n",
    "# predictors = np.array(df[['odensity']], dtype=float)\n",
    "np.shape(predictors)"
   ]
  },
  {
   "cell_type": "code",
   "execution_count": 31,
   "id": "f28a330e-f5bc-46f9-bf18-6ae27eafb629",
   "metadata": {},
   "outputs": [],
   "source": [
    "x = torch.tensor(predictors, dtype=torch.float)  #features"
   ]
  },
  {
   "cell_type": "code",
   "execution_count": 32,
   "id": "be5d1290-fdff-4fa6-a18f-9217d8567dda",
   "metadata": {},
   "outputs": [
    {
     "data": {
      "text/plain": [
       "(16318,)"
      ]
     },
     "execution_count": 32,
     "metadata": {},
     "output_type": "execute_result"
    }
   ],
   "source": [
    "target = np.array([ c for c in  df['galaxy_class'] ])\n",
    "np.shape(target)"
   ]
  },
  {
   "cell_type": "code",
   "execution_count": 33,
   "id": "a4a75134-c8ef-400b-9594-403232c4203b",
   "metadata": {},
   "outputs": [],
   "source": [
    "y = torch.tensor(target, dtype=torch.long)  #target"
   ]
  },
  {
   "cell_type": "code",
   "execution_count": 34,
   "id": "fb1d480c-a30c-4ac1-a58b-2aedce4ef036",
   "metadata": {},
   "outputs": [
    {
     "data": {
      "text/plain": [
       "(11423, 4895)"
      ]
     },
     "execution_count": 34,
     "metadata": {},
     "output_type": "execute_result"
    }
   ],
   "source": [
    "ii_train = idx <=len(idx)*0.7\n",
    "train_mask = ii_train\n",
    "test_mask  = ~ii_train\n",
    "sum(train_mask), sum(test_mask)"
   ]
  },
  {
   "cell_type": "code",
   "execution_count": 35,
   "id": "3bc67ec9-0cef-4d84-9754-2d06f2e5101f",
   "metadata": {},
   "outputs": [
    {
     "data": {
      "text/plain": [
       "2"
      ]
     },
     "execution_count": 35,
     "metadata": {},
     "output_type": "execute_result"
    }
   ],
   "source": [
    "num_classes = len(np.unique(y))\n",
    "num_classes"
   ]
  },
  {
   "cell_type": "code",
   "execution_count": 36,
   "id": "0e5a81fc-5f68-4271-acb2-70987558c4e0",
   "metadata": {},
   "outputs": [],
   "source": [
    "data = Data(x=x, edge_index=edge_index, y=y, num_classes=num_classes)"
   ]
  },
  {
   "cell_type": "code",
   "execution_count": 37,
   "id": "ddffca6a-47d0-4334-84a1-f4f435eee919",
   "metadata": {},
   "outputs": [],
   "source": [
    "data.train_mask = torch.tensor(train_mask, dtype=torch.bool)\n",
    "data.test_mask = torch.tensor(test_mask, dtype=torch.bool)"
   ]
  },
  {
   "cell_type": "code",
   "execution_count": 38,
   "id": "cd445410-e076-4ec8-b1bb-d23e5c5d981d",
   "metadata": {},
   "outputs": [
    {
     "data": {
      "text/plain": [
       "Data(edge_index=[2, 484262], num_classes=2, test_mask=[16318], train_mask=[16318], x=[16318, 5], y=[16318])"
      ]
     },
     "execution_count": 38,
     "metadata": {},
     "output_type": "execute_result"
    }
   ],
   "source": [
    "data"
   ]
  },
  {
   "cell_type": "code",
   "execution_count": 39,
   "id": "c2288a3e-77f3-4281-b354-7700723c038f",
   "metadata": {},
   "outputs": [
    {
     "data": {
      "text/plain": [
       "16318"
      ]
     },
     "execution_count": 39,
     "metadata": {},
     "output_type": "execute_result"
    }
   ],
   "source": [
    "data.num_nodes"
   ]
  },
  {
   "cell_type": "code",
   "execution_count": 40,
   "id": "bc1a431e-d506-440d-b1f6-4d500ca98f9e",
   "metadata": {},
   "outputs": [
    {
     "data": {
      "text/plain": [
       "484262"
      ]
     },
     "execution_count": 40,
     "metadata": {},
     "output_type": "execute_result"
    }
   ],
   "source": [
    "data.num_edges"
   ]
  },
  {
   "cell_type": "code",
   "execution_count": 41,
   "id": "620ade7b-5c43-4c01-bbbd-40a80f9339f4",
   "metadata": {},
   "outputs": [],
   "source": [
    "# data.is_directed()"
   ]
  },
  {
   "cell_type": "code",
   "execution_count": 42,
   "id": "5758deac-781a-4824-99ff-bc0e7b63fcf2",
   "metadata": {},
   "outputs": [],
   "source": [
    "import torch.nn.functional as F\n",
    "from torch_geometric.nn import GCNConv\n",
    "\n",
    "class GCN(torch.nn.Module):\n",
    "    def __init__(self):\n",
    "        super().__init__()\n",
    "        self.conv1 = GCNConv(data.num_node_features, 16)\n",
    "        self.conv2 = GCNConv(16, data.num_classes)\n",
    "\n",
    "    def forward(self, data):\n",
    "        x, edge_index = data.x, data.edge_index\n",
    "\n",
    "        x = self.conv1(x, edge_index)\n",
    "        x = F.relu(x)\n",
    "        x = F.dropout(x, training=self.training)\n",
    "        x = self.conv2(x, edge_index)\n",
    "\n",
    "        return F.log_softmax(x, dim=1)"
   ]
  },
  {
   "cell_type": "code",
   "execution_count": 43,
   "id": "622b1e10-9317-48c7-87c1-5fa62e723286",
   "metadata": {},
   "outputs": [
    {
     "name": "stdout",
     "output_type": "stream",
     "text": [
      "cuda\n"
     ]
    }
   ],
   "source": [
    "device = torch.device('cuda' if torch.cuda.is_available() else 'cpu')\n",
    "print(device)\n",
    "# device = 'cpu'\n",
    "model = GCN().to(device)\n",
    "data = data.to(device)\n",
    "optimizer = torch.optim.Adam(model.parameters(), lr=0.01, weight_decay=5e-4)\n",
    "lloss = []\n",
    "lf1   = []\n",
    "\n",
    "model.train()\n",
    "for epoch in range(200):\n",
    "    optimizer.zero_grad()\n",
    "    out = model(data)\n",
    "    loss = F.nll_loss(out[data.train_mask], data.y[data.train_mask])\n",
    "    lloss.append(loss.cpu().data)\n",
    "    f1 = f1_score(data.y[data.train_mask].cpu().detach().numpy(), out[data.train_mask].cpu().argmax(dim=1).detach().numpy(), average='weighted')\n",
    "    lf1.append(f1)\n",
    "    loss.backward()\n",
    "    optimizer.step()"
   ]
  },
  {
   "cell_type": "code",
   "execution_count": 44,
   "id": "df280b6c-6aa7-4bad-a1da-fb60fc29e5b0",
   "metadata": {},
   "outputs": [
    {
     "data": {
      "text/plain": [
       "array([1, 1, 1, ..., 1, 1, 0])"
      ]
     },
     "execution_count": 44,
     "metadata": {},
     "output_type": "execute_result"
    }
   ],
   "source": [
    "data.y[data.train_mask].cpu().detach().numpy()"
   ]
  },
  {
   "cell_type": "code",
   "execution_count": 45,
   "id": "3db9be9f-2d5f-4138-9a02-135d94c6a9a5",
   "metadata": {},
   "outputs": [
    {
     "data": {
      "text/plain": [
       "array([1, 1, 1, ..., 1, 1, 1])"
      ]
     },
     "execution_count": 45,
     "metadata": {},
     "output_type": "execute_result"
    }
   ],
   "source": [
    "out[data.train_mask].cpu().argmax(dim=1).detach().numpy()"
   ]
  },
  {
   "cell_type": "code",
   "execution_count": 46,
   "id": "9f101010-366e-4922-8a1e-c9091424f70d",
   "metadata": {},
   "outputs": [
    {
     "name": "stdout",
     "output_type": "stream",
     "text": [
      "Accuracy: 0.9285\n"
     ]
    }
   ],
   "source": [
    "model.eval()\n",
    "pred = model(data).argmax(dim=1)\n",
    "correct = (pred[data.test_mask] == data.y[data.test_mask]).sum()\n",
    "acc = int(correct) / int(data.test_mask.sum())\n",
    "print(f'Accuracy: {acc:.4f}')"
   ]
  },
  {
   "cell_type": "code",
   "execution_count": 47,
   "id": "fc6e332d-10e9-4791-a7b8-bed85584f44b",
   "metadata": {},
   "outputs": [
    {
     "name": "stdout",
     "output_type": "stream",
     "text": [
      "f1_score: 0.8941\n"
     ]
    }
   ],
   "source": [
    "f1 = f1_score(data.y[data.test_mask].cpu().data, pred[data.test_mask].cpu(), average='weighted')\n",
    "print(f'f1_score: {f1:.4f}')"
   ]
  },
  {
   "cell_type": "code",
   "execution_count": 48,
   "id": "7e4035a9-f47e-44c9-b5f9-3ed53e2a5b0b",
   "metadata": {},
   "outputs": [
    {
     "data": {
      "image/png": "[encoded data removed]",
      "text/plain": [
       "<Figure size 576x576 with 1 Axes>"
      ]
     },
     "metadata": {
      "needs_background": "light"
     },
     "output_type": "display_data"
    }
   ],
   "source": [
    "fig = pl.figure(figsize=(8,8))\n",
    "_ = pl.plot(lloss)\n",
    "pl.xlabel('epoch')\n",
    "pl.ylabel('loss')\n",
    "pl.savefig('./figs/gama_loss_uiz_to_class.png')"
   ]
  },
  {
   "cell_type": "code",
   "execution_count": 49,
   "id": "5e35633b-8c49-4fa2-aefe-871b8c2f017b",
   "metadata": {},
   "outputs": [
    {
     "data": {
      "image/png": "[encoded data removed]",
      "text/plain": [
       "<Figure size 576x576 with 1 Axes>"
      ]
     },
     "metadata": {
      "needs_background": "light"
     },
     "output_type": "display_data"
    }
   ],
   "source": [
    "fig = pl.figure(figsize=(8,8))\n",
    "_ = pl.plot(lf1)\n",
    "pl.xlabel('epoch')\n",
    "pl.ylabel('f1_score')\n",
    "pl.savefig('./figs/gama_f1_uiz_to_class.png')"
   ]
  },
  {
   "cell_type": "code",
   "execution_count": 51,
   "id": "b5c7e1b1-50ed-48b8-ad15-699c5bedf9f4",
   "metadata": {},
   "outputs": [
    {
     "data": {
      "image/png": "[encoded data removed]",
      "text/plain": [
       "<Figure size 504x504 with 2 Axes>"
      ]
     },
     "metadata": {
      "needs_background": "light"
     },
     "output_type": "display_data"
    }
   ],
   "source": [
    "from sklearn.metrics import confusion_matrix, ConfusionMatrixDisplay\n",
    "\n",
    "classes = ['Blue','Red']\n",
    "#------------ Confusion Matrix\n",
    "cm = confusion_matrix(np.array(data.y[data.test_mask].cpu().data), np.array(pred[data.test_mask].cpu().data))\n",
    "cm = cm.astype('float') / cm.sum(axis=1)[:, np.newaxis]\n",
    "\n",
    "fig= pl.figure(figsize=(7,7))\n",
    "ax = fig.add_subplot(1,1,1)\n",
    "im = ax.imshow(cm, interpolation='nearest', cmap=pl.cm.Blues)\n",
    "ax.figure.colorbar(im, ax=ax, pad=0.01, shrink=0.79)\n",
    "ax.set(xticks=np.arange(cm.shape[1]), yticks=np.arange(cm.shape[0]), xticklabels=classes, yticklabels=classes)\n",
    "ax.set_xlabel(\"Galaxy Class Predicted\",size=20)\n",
    "ax.set_ylabel(\"Galaxy Class True\",size=20)\n",
    "# ax.set_ylim(4-0.5, -0.5)\n",
    "\n",
    "pl.setp(ax.get_xticklabels(), rotation=15, size=12)\n",
    "pl.setp(ax.get_yticklabels(), rotation=45, size=12)\n",
    "\n",
    "fmt = '.2f'\n",
    "thresh = cm.max()/2.\n",
    "for i in range(cm.shape[0]):\n",
    "    for j in range(cm.shape[1]):\n",
    "        ax.text(j, i, format(cm[i, j], fmt),ha=\"center\", va=\"center\",size=20 , color=\"white\" if cm[i, j] > thresh else \"black\")\n",
    "        \n",
    "pl.show()"
   ]
  },
  {
   "cell_type": "code",
   "execution_count": null,
   "id": "75d18111-f838-496e-a990-d72b2e1ac4c1",
   "metadata": {},
   "outputs": [],
   "source": []
  },
  {
   "cell_type": "code",
   "execution_count": null,
   "id": "e1bad21c-cabd-48e5-bf58-8bc27ffc5100",
   "metadata": {},
   "outputs": [],
   "source": []
  }
 ],
 "metadata": {
  "kernelspec": {
   "display_name": "pytorch-1.9.0",
   "language": "python",
   "name": "pytorch-1.9.0"
  },
  "language_info": {
   "codemirror_mode": {
    "name": "ipython",
    "version": 3
   },
   "file_extension": ".py",
   "mimetype": "text/x-python",
   "name": "python",
   "nbconvert_exporter": "python",
   "pygments_lexer": "ipython3",
   "version": "3.8.11"
  }
 },
 "nbformat": 4,
 "nbformat_minor": 5
}
