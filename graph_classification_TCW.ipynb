{
 "cells": [
  {
   "cell_type": "code",
   "execution_count": 1,
   "id": "732b1a13-0733-44f5-ad2d-815d4378a4fc",
   "metadata": {},
   "outputs": [],
   "source": [
    "import torch\n",
    "from torch_geometric.data import Data\n",
    "\n",
    "import pandas             as pd\n",
    "import numpy              as np\n",
    "import pylab              as pl\n",
    "\n",
    "from sklearn.metrics import f1_score"
   ]
  },
  {
   "cell_type": "code",
   "execution_count": 2,
   "id": "8f77971e-9926-4e4d-8658-7af27a410282",
   "metadata": {},
   "outputs": [],
   "source": [
    "params = {'legend.fontsize': '20',\n",
    "          'figure.figsize': (10, 10),\n",
    "         'axes.labelsize': '20',\n",
    "         'axes.titlesize':'20',\n",
    "         'xtick.labelsize':'20',\n",
    "         'ytick.labelsize':'20'}\n",
    "pl.rcParams.update(params)"
   ]
  },
  {
   "cell_type": "markdown",
   "id": "4ec7b206-ed89-497b-ace1-88c06eec05f1",
   "metadata": {},
   "source": [
    "## Reading TCW"
   ]
  },
  {
   "cell_type": "code",
   "execution_count": 3,
   "id": "80d3c733-bcb0-469d-83df-a6f5df6007a8",
   "metadata": {},
   "outputs": [],
   "source": [
    "data = np.loadtxt(\"../../data/TracingTheCosmicWeb_PublicData/fof_catalog_200Mpc512.txt\", skiprows=3)\n",
    "N_real = len(data)\n",
    "pos = data[:N_real,[1,2,3]]\n",
    "idx = np.arange(0,N_real)"
   ]
  },
  {
   "cell_type": "code",
   "execution_count": 4,
   "id": "fc4eebbc-e2fb-4c3f-9c8e-9b9e233b8c42",
   "metadata": {},
   "outputs": [
    {
     "data": {
      "text/html": [
       "<div>\n",
       "<style scoped>\n",
       "    .dataframe tbody tr th:only-of-type {\n",
       "        vertical-align: middle;\n",
       "    }\n",
       "\n",
       "    .dataframe tbody tr th {\n",
       "        vertical-align: top;\n",
       "    }\n",
       "\n",
       "    .dataframe thead th {\n",
       "        text-align: right;\n",
       "    }\n",
       "</style>\n",
       "<table border=\"1\" class=\"dataframe\">\n",
       "  <thead>\n",
       "    <tr style=\"text-align: right;\">\n",
       "      <th></th>\n",
       "      <th>connections</th>\n",
       "      <th>lambda1</th>\n",
       "      <th>lambda2</th>\n",
       "      <th>lambda3</th>\n",
       "      <th>environment</th>\n",
       "      <th>odensity</th>\n",
       "    </tr>\n",
       "  </thead>\n",
       "  <tbody>\n",
       "    <tr>\n",
       "      <th>0</th>\n",
       "      <td>[0, 2324, 2928, 4068, 4241, 6266, 7123, 7518, ...</td>\n",
       "      <td>0.115914</td>\n",
       "      <td>0.17722</td>\n",
       "      <td>0.417372</td>\n",
       "      <td>0</td>\n",
       "      <td>27.422717</td>\n",
       "    </tr>\n",
       "    <tr>\n",
       "      <th>1</th>\n",
       "      <td>[1, 161, 1054, 1082, 1387, 1541, 1928, 2525, 2...</td>\n",
       "      <td>0.110396</td>\n",
       "      <td>0.366586</td>\n",
       "      <td>0.52877</td>\n",
       "      <td>0</td>\n",
       "      <td>27.422717</td>\n",
       "    </tr>\n",
       "    <tr>\n",
       "      <th>2</th>\n",
       "      <td>[2, 277, 1447, 1676, 3095, 3372, 4635, 4697, 9...</td>\n",
       "      <td>0.016413</td>\n",
       "      <td>0.180315</td>\n",
       "      <td>0.393326</td>\n",
       "      <td>0</td>\n",
       "      <td>27.422717</td>\n",
       "    </tr>\n",
       "    <tr>\n",
       "      <th>3</th>\n",
       "      <td>[3, 71, 890, 1213, 1628, 1755, 3174, 3606, 456...</td>\n",
       "      <td>0.093064</td>\n",
       "      <td>0.284996</td>\n",
       "      <td>0.404295</td>\n",
       "      <td>0</td>\n",
       "      <td>27.422717</td>\n",
       "    </tr>\n",
       "    <tr>\n",
       "      <th>4</th>\n",
       "      <td>[4, 32, 1158, 1308, 2562, 3532, 3894, 4304, 44...</td>\n",
       "      <td>0.195352</td>\n",
       "      <td>0.257187</td>\n",
       "      <td>0.286127</td>\n",
       "      <td>0</td>\n",
       "      <td>27.422717</td>\n",
       "    </tr>\n",
       "    <tr>\n",
       "      <th>...</th>\n",
       "      <td>...</td>\n",
       "      <td>...</td>\n",
       "      <td>...</td>\n",
       "      <td>...</td>\n",
       "      <td>...</td>\n",
       "      <td>...</td>\n",
       "    </tr>\n",
       "    <tr>\n",
       "      <th>281460</th>\n",
       "      <td>[476, 686, 1231, 2994, 4319, 5983, 6941, 8413,...</td>\n",
       "      <td>-0.109727</td>\n",
       "      <td>0.071039</td>\n",
       "      <td>0.214417</td>\n",
       "      <td>1</td>\n",
       "      <td>27.422717</td>\n",
       "    </tr>\n",
       "    <tr>\n",
       "      <th>281461</th>\n",
       "      <td>[476, 686, 1231, 2994, 4319, 5983, 6941, 8413,...</td>\n",
       "      <td>-0.108436</td>\n",
       "      <td>0.066158</td>\n",
       "      <td>0.211369</td>\n",
       "      <td>1</td>\n",
       "      <td>27.422717</td>\n",
       "    </tr>\n",
       "    <tr>\n",
       "      <th>281462</th>\n",
       "      <td>[476, 686, 1231, 4319, 5983, 6941, 8413, 9724,...</td>\n",
       "      <td>-0.113513</td>\n",
       "      <td>0.06743</td>\n",
       "      <td>0.205708</td>\n",
       "      <td>1</td>\n",
       "      <td>55.845434</td>\n",
       "    </tr>\n",
       "    <tr>\n",
       "      <th>281463</th>\n",
       "      <td>[476, 6941, 8413, 9724, 13029, 15635, 18410, 1...</td>\n",
       "      <td>-0.120994</td>\n",
       "      <td>0.058269</td>\n",
       "      <td>0.188708</td>\n",
       "      <td>1</td>\n",
       "      <td>27.422717</td>\n",
       "    </tr>\n",
       "    <tr>\n",
       "      <th>281464</th>\n",
       "      <td>[7013, 13043, 13557, 14707, 15053, 16556, 2273...</td>\n",
       "      <td>-0.133243</td>\n",
       "      <td>0.082172</td>\n",
       "      <td>0.15205</td>\n",
       "      <td>1</td>\n",
       "      <td>27.422717</td>\n",
       "    </tr>\n",
       "  </tbody>\n",
       "</table>\n",
       "<p>281465 rows × 6 columns</p>\n",
       "</div>"
      ],
      "text/plain": [
       "                                              connections   lambda1   lambda2  \\\n",
       "0       [0, 2324, 2928, 4068, 4241, 6266, 7123, 7518, ...  0.115914   0.17722   \n",
       "1       [1, 161, 1054, 1082, 1387, 1541, 1928, 2525, 2...  0.110396  0.366586   \n",
       "2       [2, 277, 1447, 1676, 3095, 3372, 4635, 4697, 9...  0.016413  0.180315   \n",
       "3       [3, 71, 890, 1213, 1628, 1755, 3174, 3606, 456...  0.093064  0.284996   \n",
       "4       [4, 32, 1158, 1308, 2562, 3532, 3894, 4304, 44...  0.195352  0.257187   \n",
       "...                                                   ...       ...       ...   \n",
       "281460  [476, 686, 1231, 2994, 4319, 5983, 6941, 8413,... -0.109727  0.071039   \n",
       "281461  [476, 686, 1231, 2994, 4319, 5983, 6941, 8413,... -0.108436  0.066158   \n",
       "281462  [476, 686, 1231, 4319, 5983, 6941, 8413, 9724,... -0.113513   0.06743   \n",
       "281463  [476, 6941, 8413, 9724, 13029, 15635, 18410, 1... -0.120994  0.058269   \n",
       "281464  [7013, 13043, 13557, 14707, 15053, 16556, 2273... -0.133243  0.082172   \n",
       "\n",
       "         lambda3 environment   odensity  \n",
       "0       0.417372           0  27.422717  \n",
       "1        0.52877           0  27.422717  \n",
       "2       0.393326           0  27.422717  \n",
       "3       0.404295           0  27.422717  \n",
       "4       0.286127           0  27.422717  \n",
       "...          ...         ...        ...  \n",
       "281460  0.214417           1  27.422717  \n",
       "281461  0.211369           1  27.422717  \n",
       "281462  0.205708           1  55.845434  \n",
       "281463  0.188708           1  27.422717  \n",
       "281464   0.15205           1  27.422717  \n",
       "\n",
       "[281465 rows x 6 columns]"
      ]
     },
     "execution_count": 4,
     "metadata": {},
     "output_type": "execute_result"
    }
   ],
   "source": [
    "df = pd.read_pickle('./data/TCW_dataset.pkl')\n",
    "df"
   ]
  },
  {
   "cell_type": "markdown",
   "id": "ffa61d22-d6bd-4d2b-9196-a2cb2ebda5b7",
   "metadata": {},
   "source": [
    "# Classification Task"
   ]
  },
  {
   "cell_type": "code",
   "execution_count": 5,
   "id": "86eef3f6-8c07-47c5-bccf-ca23f615078c",
   "metadata": {},
   "outputs": [],
   "source": [
    "A = np.concatenate([ np.zeros(len(c[1:]))+i for i, c in  enumerate(df['connections']) ]).ravel()"
   ]
  },
  {
   "cell_type": "code",
   "execution_count": 6,
   "id": "cdfaa1f5-c4fe-4b00-9f1b-ba95cd74e9d7",
   "metadata": {},
   "outputs": [],
   "source": [
    "B = np.concatenate([ c[1:] for i, c in  enumerate(df['connections']) ]).ravel()"
   ]
  },
  {
   "cell_type": "code",
   "execution_count": 7,
   "id": "5538c21b-8893-442d-9f8c-74966287daeb",
   "metadata": {},
   "outputs": [
    {
     "data": {
      "text/plain": [
       "(32670030, 32670030)"
      ]
     },
     "execution_count": 7,
     "metadata": {},
     "output_type": "execute_result"
    }
   ],
   "source": [
    "len(A), len(B)"
   ]
  },
  {
   "cell_type": "code",
   "execution_count": 8,
   "id": "c6fa9dbc-8b17-4772-bbde-71f42e10e8b6",
   "metadata": {},
   "outputs": [
    {
     "name": "stderr",
     "output_type": "stream",
     "text": [
      "/tmp/ipykernel_154645/3379307804.py:1: DeprecationWarning: an integer is required (got type numpy.float64).  Implicit conversion to integers using __int__ is deprecated, and may be removed in a future version of Python.\n",
      "  edge_index = torch.tensor([A,B], dtype=torch.long) # Conecctions\n"
     ]
    }
   ],
   "source": [
    "edge_index = torch.tensor([A,B], dtype=torch.long) # Conecctions"
   ]
  },
  {
   "cell_type": "code",
   "execution_count": 9,
   "id": "5a839a37-fb23-4f3c-b05e-ac45760f61f5",
   "metadata": {},
   "outputs": [
    {
     "data": {
      "text/plain": [
       "tensor([[     0,      0,      0,  ..., 281464, 281464, 281464],\n",
       "        [  2324,   2928,   4068,  ..., 280572, 280576, 281464]])"
      ]
     },
     "execution_count": 9,
     "metadata": {},
     "output_type": "execute_result"
    }
   ],
   "source": [
    "edge_index"
   ]
  },
  {
   "cell_type": "code",
   "execution_count": 10,
   "id": "fcd5c79f-25cf-4a10-862d-5c221cb810f8",
   "metadata": {},
   "outputs": [
    {
     "data": {
      "text/plain": [
       "(281465, 4)"
      ]
     },
     "execution_count": 10,
     "metadata": {},
     "output_type": "execute_result"
    }
   ],
   "source": [
    "predictors = np.array(df[['lambda1','lambda2','lambda3','odensity']], dtype=float)\n",
    "# predictors = np.array(df[['odensity']], dtype=float)\n",
    "np.shape(predictors)"
   ]
  },
  {
   "cell_type": "code",
   "execution_count": 11,
   "id": "f28a330e-f5bc-46f9-bf18-6ae27eafb629",
   "metadata": {},
   "outputs": [],
   "source": [
    "x = torch.tensor(predictors, dtype=torch.float)  #features"
   ]
  },
  {
   "cell_type": "code",
   "execution_count": 12,
   "id": "be5d1290-fdff-4fa6-a18f-9217d8567dda",
   "metadata": {},
   "outputs": [
    {
     "data": {
      "text/plain": [
       "(281465,)"
      ]
     },
     "execution_count": 12,
     "metadata": {},
     "output_type": "execute_result"
    }
   ],
   "source": [
    "target = np.array([ c for c in  df['environment'] ])\n",
    "np.shape(target)"
   ]
  },
  {
   "cell_type": "code",
   "execution_count": 13,
   "id": "a4a75134-c8ef-400b-9594-403232c4203b",
   "metadata": {},
   "outputs": [],
   "source": [
    "y = torch.tensor(target, dtype=torch.long)  #target"
   ]
  },
  {
   "cell_type": "code",
   "execution_count": 14,
   "id": "fb1d480c-a30c-4ac1-a58b-2aedce4ef036",
   "metadata": {},
   "outputs": [
    {
     "data": {
      "text/plain": [
       "(197026, 84439)"
      ]
     },
     "execution_count": 14,
     "metadata": {},
     "output_type": "execute_result"
    }
   ],
   "source": [
    "ii_train = idx <=len(idx)*0.7\n",
    "train_mask = ii_train\n",
    "test_mask  = ~ii_train\n",
    "sum(train_mask), sum(test_mask)"
   ]
  },
  {
   "cell_type": "code",
   "execution_count": 15,
   "id": "3bc67ec9-0cef-4d84-9754-2d06f2e5101f",
   "metadata": {},
   "outputs": [
    {
     "data": {
      "text/plain": [
       "4"
      ]
     },
     "execution_count": 15,
     "metadata": {},
     "output_type": "execute_result"
    }
   ],
   "source": [
    "num_classes = len(np.unique(y))\n",
    "num_classes"
   ]
  },
  {
   "cell_type": "code",
   "execution_count": 16,
   "id": "0e5a81fc-5f68-4271-acb2-70987558c4e0",
   "metadata": {},
   "outputs": [],
   "source": [
    "data = Data(x=x, edge_index=edge_index, y=y, num_classes=num_classes)"
   ]
  },
  {
   "cell_type": "code",
   "execution_count": 17,
   "id": "ddffca6a-47d0-4334-84a1-f4f435eee919",
   "metadata": {},
   "outputs": [],
   "source": [
    "data.train_mask = torch.tensor(train_mask, dtype=torch.bool)\n",
    "data.test_mask = torch.tensor(test_mask, dtype=torch.bool)"
   ]
  },
  {
   "cell_type": "code",
   "execution_count": 18,
   "id": "cd445410-e076-4ec8-b1bb-d23e5c5d981d",
   "metadata": {},
   "outputs": [
    {
     "data": {
      "text/plain": [
       "Data(edge_index=[2, 32670030], num_classes=4, test_mask=[281465], train_mask=[281465], x=[281465, 4], y=[281465])"
      ]
     },
     "execution_count": 18,
     "metadata": {},
     "output_type": "execute_result"
    }
   ],
   "source": [
    "data"
   ]
  },
  {
   "cell_type": "code",
   "execution_count": 19,
   "id": "c2288a3e-77f3-4281-b354-7700723c038f",
   "metadata": {},
   "outputs": [
    {
     "data": {
      "text/plain": [
       "281465"
      ]
     },
     "execution_count": 19,
     "metadata": {},
     "output_type": "execute_result"
    }
   ],
   "source": [
    "data.num_nodes"
   ]
  },
  {
   "cell_type": "code",
   "execution_count": 20,
   "id": "bc1a431e-d506-440d-b1f6-4d500ca98f9e",
   "metadata": {},
   "outputs": [
    {
     "data": {
      "text/plain": [
       "32670030"
      ]
     },
     "execution_count": 20,
     "metadata": {},
     "output_type": "execute_result"
    }
   ],
   "source": [
    "data.num_edges"
   ]
  },
  {
   "cell_type": "code",
   "execution_count": 21,
   "id": "620ade7b-5c43-4c01-bbbd-40a80f9339f4",
   "metadata": {},
   "outputs": [],
   "source": [
    "# data.is_directed()"
   ]
  },
  {
   "cell_type": "code",
   "execution_count": 22,
   "id": "5758deac-781a-4824-99ff-bc0e7b63fcf2",
   "metadata": {},
   "outputs": [],
   "source": [
    "import torch.nn.functional as F\n",
    "from torch_geometric.nn import GCNConv\n",
    "\n",
    "class GCN(torch.nn.Module):\n",
    "    def __init__(self):\n",
    "        super().__init__()\n",
    "        self.conv1 = GCNConv(data.num_node_features, 16)\n",
    "        self.conv2 = GCNConv(16, data.num_classes)\n",
    "\n",
    "    def forward(self, data):\n",
    "        x, edge_index = data.x, data.edge_index\n",
    "\n",
    "        x = self.conv1(x, edge_index)\n",
    "        x = F.relu(x)\n",
    "        x = F.dropout(x, training=self.training)\n",
    "        x = self.conv2(x, edge_index)\n",
    "\n",
    "        return F.log_softmax(x, dim=1)"
   ]
  },
  {
   "cell_type": "code",
   "execution_count": 23,
   "id": "622b1e10-9317-48c7-87c1-5fa62e723286",
   "metadata": {},
   "outputs": [
    {
     "name": "stdout",
     "output_type": "stream",
     "text": [
      "cuda\n"
     ]
    }
   ],
   "source": [
    "device = torch.device('cuda' if torch.cuda.is_available() else 'cpu')\n",
    "print(device)\n",
    "# device = 'cpu'\n",
    "model = GCN().to(device)\n",
    "data = data.to(device)\n",
    "optimizer = torch.optim.Adam(model.parameters(), lr=0.01, weight_decay=5e-4)\n",
    "lloss = []\n",
    "lf1   = []\n",
    "\n",
    "model.train()\n",
    "for epoch in range(200):\n",
    "    optimizer.zero_grad()\n",
    "    out = model(data)\n",
    "    loss = F.nll_loss(out[data.train_mask], data.y[data.train_mask])\n",
    "    lloss.append(loss.cpu().data)\n",
    "    f1 = f1_score(data.y[data.train_mask].cpu().detach().numpy(), out[data.train_mask].cpu().argmax(dim=1).detach().numpy(), average='weighted')\n",
    "    lf1.append(f1)\n",
    "    loss.backward()\n",
    "    optimizer.step()"
   ]
  },
  {
   "cell_type": "code",
   "execution_count": 24,
   "id": "df280b6c-6aa7-4bad-a1da-fb60fc29e5b0",
   "metadata": {},
   "outputs": [
    {
     "data": {
      "text/plain": [
       "array([0, 0, 0, ..., 1, 1, 1])"
      ]
     },
     "execution_count": 24,
     "metadata": {},
     "output_type": "execute_result"
    }
   ],
   "source": [
    "data.y[data.train_mask].cpu().detach().numpy()"
   ]
  },
  {
   "cell_type": "code",
   "execution_count": 25,
   "id": "3db9be9f-2d5f-4138-9a02-135d94c6a9a5",
   "metadata": {},
   "outputs": [
    {
     "data": {
      "text/plain": [
       "array([0, 0, 0, ..., 1, 1, 1])"
      ]
     },
     "execution_count": 25,
     "metadata": {},
     "output_type": "execute_result"
    }
   ],
   "source": [
    "out[data.train_mask].cpu().argmax(dim=1).detach().numpy()"
   ]
  },
  {
   "cell_type": "code",
   "execution_count": 26,
   "id": "9f101010-366e-4922-8a1e-c9091424f70d",
   "metadata": {},
   "outputs": [
    {
     "name": "stdout",
     "output_type": "stream",
     "text": [
      "Accuracy: 0.7333\n"
     ]
    }
   ],
   "source": [
    "model.eval()\n",
    "pred = model(data).argmax(dim=1)\n",
    "correct = (pred[data.test_mask] == data.y[data.test_mask]).sum()\n",
    "acc = int(correct) / int(data.test_mask.sum())\n",
    "print(f'Accuracy: {acc:.4f}')"
   ]
  },
  {
   "cell_type": "code",
   "execution_count": 27,
   "id": "fc6e332d-10e9-4791-a7b8-bed85584f44b",
   "metadata": {},
   "outputs": [
    {
     "name": "stdout",
     "output_type": "stream",
     "text": [
      "f2_score: 0.7117\n"
     ]
    }
   ],
   "source": [
    "f1 = f1_score(data.y[data.test_mask].cpu().data, pred[data.test_mask].cpu(), average='weighted')\n",
    "print(f'f2_score: {f1:.4f}')"
   ]
  },
  {
   "cell_type": "code",
   "execution_count": 28,
   "id": "7e4035a9-f47e-44c9-b5f9-3ed53e2a5b0b",
   "metadata": {},
   "outputs": [
    {
     "data": {
      "image/png": "[encoded data removed]",
      "text/plain": [
       "<Figure size 576x576 with 1 Axes>"
      ]
     },
     "metadata": {
      "needs_background": "light"
     },
     "output_type": "display_data"
    }
   ],
   "source": [
    "fig = pl.figure(figsize=(8,8))\n",
    "_ = pl.plot(lloss)\n",
    "pl.xlabel('epoch')\n",
    "pl.ylabel('loss')\n",
    "pl.savefig('./figs/tcw_loss_od+lm3_to_env.png')"
   ]
  },
  {
   "cell_type": "code",
   "execution_count": 29,
   "id": "5e35633b-8c49-4fa2-aefe-871b8c2f017b",
   "metadata": {},
   "outputs": [
    {
     "data": {
      "image/png": "[encoded data removed]",
      "text/plain": [
       "<Figure size 576x576 with 1 Axes>"
      ]
     },
     "metadata": {
      "needs_background": "light"
     },
     "output_type": "display_data"
    }
   ],
   "source": [
    "fig = pl.figure(figsize=(8,8))\n",
    "_ = pl.plot(lf1)\n",
    "pl.xlabel('epoch')\n",
    "pl.ylabel('f1_score')\n",
    "pl.savefig('./figs/tcw_f1_od+lm3_to_env.png')"
   ]
  },
  {
   "cell_type": "code",
   "execution_count": null,
   "id": "b5c7e1b1-50ed-48b8-ad15-699c5bedf9f4",
   "metadata": {},
   "outputs": [],
   "source": []
  }
 ],
 "metadata": {
  "kernelspec": {
   "display_name": "pytorch-1.9.0",
   "language": "python",
   "name": "pytorch-1.9.0"
  },
  "language_info": {
   "codemirror_mode": {
    "name": "ipython",
    "version": 3
   },
   "file_extension": ".py",
   "mimetype": "text/x-python",
   "name": "python",
   "nbconvert_exporter": "python",
   "pygments_lexer": "ipython3",
   "version": "3.8.11"
  }
 },
 "nbformat": 4,
 "nbformat_minor": 5
}
