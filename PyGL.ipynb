{
 "cells": [
  {
   "cell_type": "code",
   "execution_count": 144,
   "id": "0bbaabf1-550f-4df4-bbf3-90b9dce154f5",
   "metadata": {},
   "outputs": [],
   "source": [
    "import torch\n",
    "from torch_geometric.data import Data\n",
    "import numpy as np\n",
    "import pylab as pl"
   ]
  },
  {
   "cell_type": "code",
   "execution_count": 12,
   "id": "7ec7a63d-a97a-4985-8f9f-cf63bd489d88",
   "metadata": {},
   "outputs": [],
   "source": [
    "edge_index = torch.tensor([[0, 1, 1, 2],\n",
    "                           [1, 0, 2, 1]], dtype=torch.long) # Conecctions\n",
    "x = torch.tensor([[-1], [0], [1]], dtype=torch.float)  #features\n",
    "\n",
    "data = Data(x=x, edge_index=edge_index)"
   ]
  },
  {
   "cell_type": "code",
   "execution_count": 13,
   "id": "84744bee-69fe-49d4-b98e-bd7188f5b66f",
   "metadata": {},
   "outputs": [
    {
     "data": {
      "text/plain": [
       "Data(edge_index=[2, 4], x=[3, 1])"
      ]
     },
     "execution_count": 13,
     "metadata": {},
     "output_type": "execute_result"
    }
   ],
   "source": [
    "data"
   ]
  },
  {
   "cell_type": "code",
   "execution_count": 14,
   "id": "ef6faa17-f733-45e0-a174-58d381d777b7",
   "metadata": {},
   "outputs": [
    {
     "name": "stdout",
     "output_type": "stream",
     "text": [
      "['x', 'edge_index']\n",
      "\n",
      "tensor([[-1.],\n",
      "        [ 0.],\n",
      "        [ 1.]])\n",
      "\n",
      "edge_index found in data\n",
      "x found in data\n"
     ]
    },
    {
     "data": {
      "text/plain": [
       "False"
      ]
     },
     "execution_count": 14,
     "metadata": {},
     "output_type": "execute_result"
    }
   ],
   "source": [
    "print(data.keys, end='\\n\\n')\n",
    "\n",
    "print(data['x'], end='\\n\\n')\n",
    "\n",
    "for key, item in data:\n",
    "    print(f'{key} found in data')\n",
    "\n",
    "'edge_attr' in data"
   ]
  },
  {
   "cell_type": "code",
   "execution_count": 15,
   "id": "3ea893ca-46e6-40f8-a1fb-689f0802aeac",
   "metadata": {},
   "outputs": [
    {
     "data": {
      "text/plain": [
       "3"
      ]
     },
     "execution_count": 15,
     "metadata": {},
     "output_type": "execute_result"
    }
   ],
   "source": [
    "data.num_nodes # number of nodes"
   ]
  },
  {
   "cell_type": "code",
   "execution_count": 16,
   "id": "d56ea1c0-0083-4c83-b290-da79e187f8c2",
   "metadata": {},
   "outputs": [
    {
     "data": {
      "text/plain": [
       "4"
      ]
     },
     "execution_count": 16,
     "metadata": {},
     "output_type": "execute_result"
    }
   ],
   "source": [
    "data.num_edges # number of conections bidirected"
   ]
  },
  {
   "cell_type": "code",
   "execution_count": 17,
   "id": "cfdf086c-5a35-471c-84c8-928c9bddff89",
   "metadata": {},
   "outputs": [
    {
     "data": {
      "text/plain": [
       "1"
      ]
     },
     "execution_count": 17,
     "metadata": {},
     "output_type": "execute_result"
    }
   ],
   "source": [
    "data.num_node_features # number of features "
   ]
  },
  {
   "cell_type": "code",
   "execution_count": 18,
   "id": "d1b3ac9d-eded-4be1-bb39-9e53cec02ca2",
   "metadata": {},
   "outputs": [
    {
     "data": {
      "text/plain": [
       "False"
      ]
     },
     "execution_count": 18,
     "metadata": {},
     "output_type": "execute_result"
    }
   ],
   "source": [
    "data.contains_isolated_nodes() # is isolated nodes?"
   ]
  },
  {
   "cell_type": "code",
   "execution_count": 20,
   "id": "c24b4666-45d0-4098-a331-5faa056cf725",
   "metadata": {},
   "outputs": [
    {
     "data": {
      "text/plain": [
       "False"
      ]
     },
     "execution_count": 20,
     "metadata": {},
     "output_type": "execute_result"
    }
   ],
   "source": [
    "data.contains_self_loops() # ?"
   ]
  },
  {
   "cell_type": "code",
   "execution_count": 21,
   "id": "707faa7a-498f-464a-9f1a-84b87190fb65",
   "metadata": {},
   "outputs": [
    {
     "data": {
      "text/plain": [
       "False"
      ]
     },
     "execution_count": 21,
     "metadata": {},
     "output_type": "execute_result"
    }
   ],
   "source": [
    "data.is_directed() # ?"
   ]
  },
  {
   "cell_type": "code",
   "execution_count": 24,
   "id": "1af7629b-8686-4890-beb8-12399ebb2acf",
   "metadata": {},
   "outputs": [
    {
     "data": {
      "text/plain": [
       "Data(edge_index=[2, 4], x=[3, 1])"
      ]
     },
     "execution_count": 24,
     "metadata": {},
     "output_type": "execute_result"
    }
   ],
   "source": [
    "data"
   ]
  },
  {
   "cell_type": "code",
   "execution_count": 86,
   "id": "247c1e89-c3b8-4754-938f-2ae772566672",
   "metadata": {},
   "outputs": [
    {
     "data": {
      "text/plain": [
       "Data(edge_index=[2, 4], x=[3, 2])"
      ]
     },
     "execution_count": 86,
     "metadata": {},
     "output_type": "execute_result"
    }
   ],
   "source": [
    "edge_index2 = torch.tensor([[0, 1, 1, 2],\n",
    "                           [1, 0, 2, 1]], dtype=torch.long) # Conecctions\n",
    "x2 = torch.tensor([[-1,1], [0,1], [1,2]], dtype=torch.float)  #features\n",
    "\n",
    "data2 = Data(x=x2, edge_index=edge_index2)\n",
    "data2"
   ]
  },
  {
   "cell_type": "code",
   "execution_count": 88,
   "id": "12cfb45c-2508-49a0-8c1c-443188481a2e",
   "metadata": {},
   "outputs": [
    {
     "data": {
      "text/plain": [
       "tensor([[0, 1, 1, 2],\n",
       "        [1, 0, 2, 1]])"
      ]
     },
     "execution_count": 88,
     "metadata": {},
     "output_type": "execute_result"
    }
   ],
   "source": [
    "data2.edge_index"
   ]
  },
  {
   "cell_type": "code",
   "execution_count": 89,
   "id": "416974dd-29d3-4a0f-bbab-84a9b8dc34f2",
   "metadata": {},
   "outputs": [
    {
     "data": {
      "text/plain": [
       "tensor([[-1.,  1.],\n",
       "        [ 0.,  1.],\n",
       "        [ 1.,  2.]])"
      ]
     },
     "execution_count": 89,
     "metadata": {},
     "output_type": "execute_result"
    }
   ],
   "source": [
    "data2.x"
   ]
  },
  {
   "cell_type": "markdown",
   "id": "daae9634-166e-4d53-a839-897a2ea43bd3",
   "metadata": {},
   "source": [
    "## Enzimes dataset"
   ]
  },
  {
   "cell_type": "code",
   "execution_count": 32,
   "id": "31b5d570-28d4-43a9-bc4a-8866ab04da13",
   "metadata": {},
   "outputs": [],
   "source": [
    "from torch_geometric.datasets import TUDataset\n",
    "from torch_geometric.data import DataLoader"
   ]
  },
  {
   "cell_type": "code",
   "execution_count": 48,
   "id": "273f563e-771b-40a7-aff6-03bd62b7f589",
   "metadata": {},
   "outputs": [
    {
     "name": "stdout",
     "output_type": "stream",
     "text": [
      "6\n",
      "3\n"
     ]
    }
   ],
   "source": [
    "dataset = TUDataset(root='./data/ENZYMES', name='ENZYMES')\n",
    "\n",
    "len(dataset)\n",
    "print(dataset.num_classes) # number of classes\n",
    "print(dataset.num_node_features) # number of features by node"
   ]
  },
  {
   "cell_type": "code",
   "execution_count": 49,
   "id": "db03194d-870f-4589-a5f0-4e4ae54ac2bb",
   "metadata": {},
   "outputs": [
    {
     "data": {
      "text/plain": [
       "Data(edge_index=[2, 156], x=[48, 3], y=[1])"
      ]
     },
     "execution_count": 49,
     "metadata": {},
     "output_type": "execute_result"
    }
   ],
   "source": [
    "# edge_index=[Dimension, number of connections]\n",
    "# x=[number of nodes, features by node]\n",
    "# y=[target,class]\n",
    "dataset[599] "
   ]
  },
  {
   "cell_type": "code",
   "execution_count": 50,
   "id": "91f49bbe-1301-475a-b40f-e18df18baeeb",
   "metadata": {},
   "outputs": [],
   "source": [
    "perm = torch.randperm(len(dataset))\n",
    "dataset = dataset[perm]"
   ]
  },
  {
   "cell_type": "code",
   "execution_count": 51,
   "id": "90de4206-c765-4ae5-91f7-bdc4b048a59e",
   "metadata": {},
   "outputs": [],
   "source": [
    "train_dataset = dataset[:540] \n",
    "test_dataset = dataset[540:]"
   ]
  },
  {
   "cell_type": "code",
   "execution_count": 52,
   "id": "a348a179-6ed4-4e74-afd4-78f11000739b",
   "metadata": {},
   "outputs": [
    {
     "data": {
      "text/plain": [
       "3"
      ]
     },
     "execution_count": 52,
     "metadata": {},
     "output_type": "execute_result"
    }
   ],
   "source": [
    "dataset.num_node_features"
   ]
  },
  {
   "cell_type": "code",
   "execution_count": 53,
   "id": "f8bfbac0-7a15-493c-93d9-bccf3d57539b",
   "metadata": {},
   "outputs": [],
   "source": [
    "# loader = DataLoader(dataset, batch_size=32, shuffle=True)\n",
    "\n",
    "# for i, batch in enumerate(loader):\n",
    "#     # batch\n",
    "#     print(batch)\n",
    "#     # print(i)\n",
    "#     # print(batch.num_graphs)"
   ]
  },
  {
   "cell_type": "markdown",
   "id": "1124a549-5e81-4094-bd90-e2540784ca0f",
   "metadata": {},
   "source": [
    "## Cora Citation dataset"
   ]
  },
  {
   "cell_type": "code",
   "execution_count": 62,
   "id": "268d40fb-ef7d-489c-91db-61364a7d7728",
   "metadata": {},
   "outputs": [
    {
     "data": {
      "text/plain": [
       "Cora()"
      ]
     },
     "execution_count": 62,
     "metadata": {},
     "output_type": "execute_result"
    }
   ],
   "source": [
    "from torch_geometric.datasets import Planetoid\n",
    "\n",
    "dataset = Planetoid(root='./data/Cora', name='Cora')\n",
    "dataset"
   ]
  },
  {
   "cell_type": "code",
   "execution_count": 117,
   "id": "d2c06899-caa4-409f-83b6-014a93644737",
   "metadata": {},
   "outputs": [
    {
     "data": {
      "text/plain": [
       "1433"
      ]
     },
     "execution_count": 117,
     "metadata": {},
     "output_type": "execute_result"
    }
   ],
   "source": [
    "dataset.num_features"
   ]
  },
  {
   "cell_type": "code",
   "execution_count": 63,
   "id": "881f2179-d22e-4799-844f-0d2b6c4a48fb",
   "metadata": {},
   "outputs": [],
   "source": [
    "import torch\n",
    "import torch.nn.functional as F\n",
    "from torch_geometric.nn import GCNConv\n",
    "\n",
    "class GCN(torch.nn.Module):\n",
    "    def __init__(self):\n",
    "        super().__init__()\n",
    "        self.conv1 = GCNConv(dataset.num_node_features, 16)\n",
    "        self.conv2 = GCNConv(16, dataset.num_classes)\n",
    "\n",
    "    def forward(self, data):\n",
    "        x, edge_index = data.x, data.edge_index\n",
    "\n",
    "        x = self.conv1(x, edge_index)\n",
    "        x = F.relu(x)\n",
    "        x = F.dropout(x, training=self.training)\n",
    "        x = self.conv2(x, edge_index)\n",
    "\n",
    "        return F.log_softmax(x, dim=1)"
   ]
  },
  {
   "cell_type": "code",
   "execution_count": 102,
   "id": "287c4bc3-0ab2-4708-b1f8-f654f510fb1c",
   "metadata": {},
   "outputs": [],
   "source": [
    "device = torch.device('cuda' if torch.cuda.is_available() else 'cpu')\n",
    "model = GCN().to(device)\n",
    "data = dataset[0].to(device)\n",
    "optimizer = torch.optim.Adam(model.parameters(), lr=0.01, weight_decay=5e-4)\n",
    "\n",
    "model.train()\n",
    "for epoch in range(200):\n",
    "    optimizer.zero_grad()\n",
    "    out = model(data)\n",
    "    loss = F.nll_loss(out[data.train_mask], data.y[data.train_mask])\n",
    "    loss.backward()\n",
    "    optimizer.step()"
   ]
  },
  {
   "cell_type": "code",
   "execution_count": 107,
   "id": "648a31f5-7612-435d-b677-fd2ec9e36458",
   "metadata": {},
   "outputs": [
    {
     "name": "stdout",
     "output_type": "stream",
     "text": [
      "Accuracy: 0.8050\n"
     ]
    }
   ],
   "source": [
    "model.eval()\n",
    "pred = model(data).argmax(dim=1)\n",
    "correct = (pred[data.test_mask] == data.y[data.test_mask]).sum()\n",
    "acc = int(correct) / int(data.test_mask.sum())\n",
    "print(f'Accuracy: {acc:.4f}')"
   ]
  },
  {
   "cell_type": "code",
   "execution_count": 125,
   "id": "d93c5d43-2511-4bc7-a84f-b0fc0fea4012",
   "metadata": {},
   "outputs": [
    {
     "data": {
      "text/plain": [
       "tensor([[   0,    0,    0,  ..., 2707, 2707, 2707],\n",
       "        [ 633, 1862, 2582,  ...,  598, 1473, 2706]], device='cuda:0')"
      ]
     },
     "execution_count": 125,
     "metadata": {},
     "output_type": "execute_result"
    }
   ],
   "source": [
    "data.edge_index"
   ]
  },
  {
   "cell_type": "code",
   "execution_count": 147,
   "id": "ff1f6736-745c-47d2-8445-6ba1cc987e9c",
   "metadata": {},
   "outputs": [],
   "source": [
    "class GCNR(torch.nn.Module):\n",
    "    def __init__(self):\n",
    "        super().__init__()\n",
    "        torch.manual_seed(12345)\n",
    "        self.conv1 = GCNConv(dataset.num_features, 16)\n",
    "        self.conv2 = GCNConv(16, dataset.num_classes)\n",
    "        self.linear1 = torch.nn.Linear(dataset.num_classes, 1)\n",
    "        \n",
    "    def forward(self, data):\n",
    "        x, edge_index = data.x, data.edge_index\n",
    "        x = self.conv1(x, edge_index)\n",
    "        x = x.relu()\n",
    "        x = F.dropout(x, p=0.3, training=self.training)\n",
    "        x = self.conv2(x, edge_index)\n",
    "        x = self.linear1(x)\n",
    "        return x"
   ]
  },
  {
   "cell_type": "code",
   "execution_count": 167,
   "id": "17da7195-b49a-4cfd-b635-52b8acd47583",
   "metadata": {},
   "outputs": [
    {
     "name": "stderr",
     "output_type": "stream",
     "text": [
      "/tmp/ipykernel_81129/2032658863.py:10: UserWarning: Using a target size (torch.Size([140])) that is different to the input size (torch.Size([140, 1])). This will likely lead to incorrect results due to broadcasting. Please ensure they have the same size.\n",
      "  loss = F.mse_loss(out[data.train_mask], data.y[data.train_mask].float())\n"
     ]
    }
   ],
   "source": [
    "device = torch.device('cuda' if torch.cuda.is_available() else 'cpu')\n",
    "model = GCNR().to(device)\n",
    "data = dataset[0].to(device)\n",
    "optimizer = torch.optim.Adam(model.parameters(), lr=0.01, weight_decay=5e-4)\n",
    "\n",
    "model.train()\n",
    "for epoch in range(1000):\n",
    "    optimizer.zero_grad()\n",
    "    out = model(data)\n",
    "    loss = F.mse_loss(out[data.train_mask], data.y[data.train_mask].float())\n",
    "    loss.backward()\n",
    "    optimizer.step()"
   ]
  },
  {
   "cell_type": "code",
   "execution_count": 168,
   "id": "e01bbab8-a501-4247-b343-5bf32a889ddf",
   "metadata": {},
   "outputs": [
    {
     "name": "stdout",
     "output_type": "stream",
     "text": [
      "tensor(2.8143, device='cuda:0', grad_fn=<MseLossBackward>)\n"
     ]
    },
    {
     "name": "stderr",
     "output_type": "stream",
     "text": [
      "/tmp/ipykernel_81129/398370075.py:3: UserWarning: Using a target size (torch.Size([1000])) that is different to the input size (torch.Size([1000, 1])). This will likely lead to incorrect results due to broadcasting. Please ensure they have the same size.\n",
      "  print(F.mse_loss(pred[data.test_mask], data.y[data.test_mask].float()))\n"
     ]
    },
    {
     "data": {
      "text/plain": [
       "<matplotlib.collections.PathCollection at 0x7f4cb785d5e0>"
      ]
     },
     "execution_count": 168,
     "metadata": {},
     "output_type": "execute_result"
    },
    {
     "data": {
      "image/png": "[encoded data removed]",
      "text/plain": [
       "<Figure size 432x288 with 1 Axes>"
      ]
     },
     "metadata": {
      "needs_background": "light"
     },
     "output_type": "display_data"
    }
   ],
   "source": [
    "model.eval()\n",
    "pred = model(data)\n",
    "print(F.mse_loss(pred[data.test_mask], data.y[data.test_mask].float()))\n",
    "pl.scatter(pred[data.test_mask].tolist(), data.y[data.test_mask].float().tolist())"
   ]
  },
  {
   "cell_type": "code",
   "execution_count": null,
   "id": "f808fcaa-553a-4a6d-9a62-6a737f9fbf58",
   "metadata": {},
   "outputs": [],
   "source": []
  },
  {
   "cell_type": "code",
   "execution_count": null,
   "id": "66e1326b-95c2-41d8-8f43-a7b077561823",
   "metadata": {},
   "outputs": [],
   "source": []
  }
 ],
 "metadata": {
  "kernelspec": {
   "display_name": "pytorch-1.9.0",
   "language": "python",
   "name": "pytorch-1.9.0"
  },
  "language_info": {
   "codemirror_mode": {
    "name": "ipython",
    "version": 3
   },
   "file_extension": ".py",
   "mimetype": "text/x-python",
   "name": "python",
   "nbconvert_exporter": "python",
   "pygments_lexer": "ipython3",
   "version": "3.8.11"
  }
 },
 "nbformat": 4,
 "nbformat_minor": 5
}
