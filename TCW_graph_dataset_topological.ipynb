{
 "cells": [
  {
   "cell_type": "code",
   "execution_count": 1,
   "id": "746ece7d-1a94-47ad-b047-1637b48a4844",
   "metadata": {},
   "outputs": [],
   "source": [
    "import pandas             as pd\n",
    "import numpy              as np\n",
    "import pylab              as pl\n",
    "\n",
    "from   itertools          import combinations\n",
    "from   scipy.spatial      import Delaunay\n",
    "from   scipy.spatial      import KDTree\n",
    "from   astropy.table      import Table\n",
    "\n",
    "from src.misc import plot_3D\n",
    "from src.misc import plot_3D_unique\n",
    "from src.misc import plot_3D_unique_neighbors\n",
    "from src.misc import topological_features\n",
    "from src.misc import Beta_sk"
   ]
  },
  {
   "cell_type": "code",
   "execution_count": 2,
   "id": "e1054db5-3693-4a77-8646-8da9a625dbfc",
   "metadata": {},
   "outputs": [],
   "source": [
    "params = {'legend.fontsize': '20',\n",
    "          'figure.figsize': (8, 8),\n",
    "         'axes.labelsize': '20',\n",
    "         'axes.titlesize':'20',\n",
    "         'xtick.labelsize':'20',\n",
    "         'ytick.labelsize':'20',\n",
    "         'axes.labelpad' : '20'}\n",
    "pl.rcParams.update(params)"
   ]
  },
  {
   "cell_type": "markdown",
   "id": "26b575e1-f20f-40c8-8a8e-e28588e93ca9",
   "metadata": {},
   "source": [
    "## TCW"
   ]
  },
  {
   "cell_type": "code",
   "execution_count": 3,
   "id": "10b08e10-757b-4030-9357-faf7500e99c1",
   "metadata": {},
   "outputs": [
    {
     "data": {
      "text/plain": [
       "281465"
      ]
     },
     "execution_count": 3,
     "metadata": {},
     "output_type": "execute_result"
    }
   ],
   "source": [
    "data = np.loadtxt(\"../../data/TracingTheCosmicWeb_PublicData/fof_catalog_200Mpc512.txt\", skiprows=3)\n",
    "N_real = len(data)\n",
    "points = data[:N_real,[1,2,3]]\n",
    "len(points)"
   ]
  },
  {
   "cell_type": "code",
   "execution_count": 4,
   "id": "9fdda585-eded-434d-ae46-b2892e33e8cc",
   "metadata": {},
   "outputs": [],
   "source": [
    "fig = pl.figure(figsize=(8,8))\n",
    "ax = pl.axes(projection='3d')\n",
    "ax.scatter3D(points[:,0],points[:,1],points[:,2])"
   ]
  },
  {
   "cell_type": "markdown",
   "id": "38a1f4c6-fd11-4b76-a08b-e063cf2a5143",
   "metadata": {},
   "source": [
    "## Bsk"
   ]
  },
  {
   "cell_type": "code",
   "execution_count": 5,
   "id": "112d1e69-7bf2-43c8-8447-4ee16a3d4429",
   "metadata": {},
   "outputs": [
    {
     "name": "stdout",
     "output_type": "stream",
     "text": [
      " Default cosmology: omegam, w =   0.26000000000000001       -1.0000000000000000     \n",
      " Using   cosmology: omegam, w =   0.26000000000000001       0.26000000000000001     \n",
      " #####################################\n",
      "  Settings\n",
      "   omegam, w =    0.260   0.260\n",
      "   inputfilename: ./data/pos.tmp\n",
      "   outputfilename: ../data/posbsk.tmp\n",
      "   beta =    1.0000000000000000     \n",
      "   printinfo =  F\n",
      "   #-NNB searching for BSK:          300\n",
      "   minimalrcut:   -1.0000000150474662E+030\n",
      "   maximalrcut:    1.0000000150474662E+030\n",
      " #####################################\n",
      "   (BSK) Begins.\n",
      "   (BSK) Calculating BSK...\n",
      "  *** Result wrote to: xdl_beta_skeleton/../data/posbsk.tmp.BSKIndex\n",
      " 0%==> 1%==> 2%==> 3%==> 4%==> 5%==> 6%==> 7%==> 8%==> 9%==>10%==>11%==>12%==>13%==>14%==>15%==>16%==>17%==>18%==>19%==>20%==>21%==>22%==>23%==>24%==>25%==>26%==>27%==>28%==>29%==>30%==>31%==>32%==>33%==>34%==>35%==>36%==>37%==>38%==>39%==>40%==>41%==>42%==>43%==>44%==>45%==>46%==>47%==>48%==>49%==>50%==>51%==>52%==>53%==>54%==>55%==>56%==>57%==>58%==>59%==>60%==>61%==>62%==>63%==>64%==>65%==>66%==>67%==>68%==>69%==>70%==>71%==>72%==>73%==>74%==>75%==>76%==>77%==>78%==>79%==>80%==>81%==>82%==>83%==>84%==>85%==>86%==>87%==>88%==>89%==>90%==>91%==>92%==>93%==>94%==>95%==>96%==>97%==>98%==>99%==>**%==> \\n\n",
      "        Time used in BSK calculation:    61.578696000000001       seconds.\n",
      "        # of Connections:       757081\n",
      "  *** information of BSK (fmt: distance, redshift, length, mu) wrote to: xdl_beta_skeleton/../data/posbsk.tmp.BSKinfo\n",
      "   (BSK) Done.\n"
     ]
    }
   ],
   "source": [
    "unique_pairs_bsk = Beta_sk(points)"
   ]
  },
  {
   "cell_type": "code",
   "execution_count": null,
   "id": "0ad16d6e-20ec-4740-9cd8-98cb996f7ca7",
   "metadata": {},
   "outputs": [],
   "source": [
    "%%time\n",
    "ids, n_bsk_connections, id_bsk_connections, dis_bsk_connections, avdis_bsk_connections, id_bsk_firstneigh_connections, n_bsk_firstneigh_connections = topological_features(points, unique_pairs_bsk)"
   ]
  },
  {
   "cell_type": "code",
   "execution_count": null,
   "id": "b5d73d5d-14f8-44b9-9d86-19aecfebdbf9",
   "metadata": {},
   "outputs": [],
   "source": [
    "# fig = pl.figure(figsize=(8,8))\n",
    "# ax  = pl.axes(projection='3d')\n",
    "# ax  = plot_3D(ax, points, id_bsk_connections)"
   ]
  },
  {
   "cell_type": "code",
   "execution_count": null,
   "id": "4161838e-ed05-4da0-abfa-d241622226e7",
   "metadata": {},
   "outputs": [],
   "source": [
    "fig = pl.figure(figsize=(8,8))\n",
    "ax  = pl.axes(projection='3d')\n",
    "ax  = plot_3D_unique(ax, points, id_bsk_connections, 0)"
   ]
  },
  {
   "cell_type": "code",
   "execution_count": null,
   "id": "0827c6b4-3d23-47c8-802e-d87fd1f91cff",
   "metadata": {},
   "outputs": [],
   "source": [
    "fig = pl.figure(figsize=(8,8))\n",
    "ax  = pl.axes(projection='3d')\n",
    "ax  = plot_3D_unique_neighbors(ax,points, id_bsk_connections, id_bsk_firstneigh_connections, 0)"
   ]
  },
  {
   "cell_type": "code",
   "execution_count": null,
   "id": "8c7a8782-667f-45df-a069-bec3a24ee254",
   "metadata": {},
   "outputs": [],
   "source": [
    "fig = pl.figure(figsize=(8,8))\n",
    "pl.subplot(2,2,1)\n",
    "_ = pl.hist(n_bsk_connections)\n",
    "pl.xlabel('N. of Connections')\n",
    "pl.subplot(2,2,2)\n",
    "_ = pl.hist(avdis_bsk_connections)\n",
    "pl.xlabel('Av. Connections Length')\n",
    "pl.subplot(2,2,3)\n",
    "_ = pl.hist(n_bsk_firstneigh_connections)\n",
    "pl.xlabel('N. of First Connections')\n",
    "pl.tight_layout()\n",
    "fig.tight_layout()\n",
    "pl.show()"
   ]
  },
  {
   "cell_type": "markdown",
   "id": "12e89685-2529-4631-81d6-e3e178a7b97c",
   "metadata": {},
   "source": [
    "## Delaunay"
   ]
  },
  {
   "cell_type": "code",
   "execution_count": null,
   "id": "a87edc59-4483-4a01-9ec0-e1ece262fb56",
   "metadata": {},
   "outputs": [],
   "source": [
    "delaunay = Delaunay(points)"
   ]
  },
  {
   "cell_type": "code",
   "execution_count": null,
   "id": "1ed9b2d0-19b7-4e63-b86b-aba70d4551a5",
   "metadata": {},
   "outputs": [],
   "source": [
    "all_pairs = []\n",
    "for simplex in delaunay.simplices:\n",
    "    a = list(combinations(simplex,2))\n",
    "    l = list(map(list, a))\n",
    "    l = list(map(np.sort, l))\n",
    "    l = list(map(list, l))\n",
    "    all_pairs.append(l)\n",
    "all_pairs = np.vstack(all_pairs)\n",
    "unique_pairs_delaunay = np.unique(all_pairs, axis=0)"
   ]
  },
  {
   "cell_type": "code",
   "execution_count": null,
   "id": "66961f1a-3a24-4752-89b5-2c8b0c81b738",
   "metadata": {},
   "outputs": [],
   "source": [
    "%%time\n",
    "ids, n_delaunay_connections, id_delaunay_connections, dis_delaunay_connections, avdis_delaunay_connections, id_delaunay_firstneigh_connections, n_delaunay_firstneigh_connections = topological_features(points, unique_pairs_delaunay)"
   ]
  },
  {
   "cell_type": "code",
   "execution_count": null,
   "id": "739cc4ac-d9ac-4b8d-9be6-adac4804fbeb",
   "metadata": {},
   "outputs": [],
   "source": [
    "# fig = pl.figure(figsize=(8,8))\n",
    "# ax  = pl.axes(projection='3d')\n",
    "# ax  = plot_3D(ax,points, id_delaunay_connections)"
   ]
  },
  {
   "cell_type": "code",
   "execution_count": null,
   "id": "22562fd1-cd25-419d-8bc7-84f5a9a59bdd",
   "metadata": {},
   "outputs": [],
   "source": [
    "fig = pl.figure(figsize=(8,8))\n",
    "ax  = pl.axes(projection='3d')\n",
    "ax  = plot_3D_unique(ax, points, id_delaunay_connections, 0)"
   ]
  },
  {
   "cell_type": "code",
   "execution_count": null,
   "id": "84433c07-187a-4502-a024-2c6084483744",
   "metadata": {},
   "outputs": [],
   "source": [
    "fig = pl.figure(figsize=(8,8))\n",
    "ax  = pl.axes(projection='3d')\n",
    "ax  = plot_3D_unique_neighbors(ax,points, id_delaunay_connections, id_delaunay_firstneigh_connections, 0)"
   ]
  },
  {
   "cell_type": "code",
   "execution_count": null,
   "id": "c2e3c14d-929e-4e72-89b9-a0a04b7646af",
   "metadata": {},
   "outputs": [],
   "source": [
    "fig = pl.figure(figsize=(8,8))\n",
    "pl.subplot(2,2,1)\n",
    "_ = pl.hist(n_delaunay_connections)\n",
    "pl.xlabel('N. of Connections')\n",
    "pl.subplot(2,2,2)\n",
    "_ = pl.hist(avdis_delaunay_connections)\n",
    "pl.xlabel('Av. Connections Length')\n",
    "pl.subplot(2,2,3)\n",
    "_ = pl.hist(n_delaunay_firstneigh_connections)\n",
    "pl.xlabel('N. of First Connections')\n",
    "pl.tight_layout()\n",
    "fig.tight_layout()\n",
    "pl.show()"
   ]
  },
  {
   "cell_type": "code",
   "execution_count": null,
   "id": "6e5627a8-1f03-449e-967d-535fddab50bd",
   "metadata": {},
   "outputs": [],
   "source": [
    "df = pd.DataFrame()\n",
    "df['ID'] = ids\n",
    "df['ID_DELAUNAY_CONNECTIONS']     =  id_delaunay_connections\n",
    "df['N_DELAUNAY_CONNECTIONS']      =  n_delaunay_connections\n",
    "df['DIS_DELAUNAY_CONNECTIONS']    =  dis_delaunay_connections\n",
    "df['AVDIS_DELAUNAY_CONNECTIONS']  =  avdis_delaunay_connections\n",
    "df['ID_DELAUNAY_FIRSTNEIGH_CONNECTIONS']     =  id_delaunay_firstneigh_connections\n",
    "df['N_DELAUNAY_FIRSTNEIGH_CONNECTIONS']      =  n_delaunay_firstneigh_connections\n",
    "df['N_BSK_CONNECTIONS']      =  n_bsk_connections\n",
    "df['DIS_BSK_CONNECTIONS']    =  dis_bsk_connections\n",
    "df['AVDIS_BSK_CONNECTIONS']  =  avdis_bsk_connections\n",
    "df['ID_BSK_FIRSTNEIGH_CONNECTIONS']     =  id_bsk_firstneigh_connections\n",
    "df['N_BSK_FIRSTNEIGH_CONNECTIONS']      =  n_bsk_firstneigh_connections\n",
    "df"
   ]
  },
  {
   "cell_type": "code",
   "execution_count": null,
   "id": "f3e83c0a-3e9c-4aa5-ab60-d7d75b6d631f",
   "metadata": {},
   "outputs": [],
   "source": [
    "df.to_pickle('./data/TCW_topological_dataset.pkl')"
   ]
  }
 ],
 "metadata": {
  "kernelspec": {
   "display_name": "outdec",
   "language": "python",
   "name": "outdec"
  },
  "language_info": {
   "codemirror_mode": {
    "name": "ipython",
    "version": 3
   },
   "file_extension": ".py",
   "mimetype": "text/x-python",
   "name": "python",
   "nbconvert_exporter": "python",
   "pygments_lexer": "ipython3",
   "version": "3.9.0"
  }
 },
 "nbformat": 4,
 "nbformat_minor": 5
}
